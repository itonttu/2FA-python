{
 "cells": [
  {
   "cell_type": "code",
   "execution_count": 11,
   "id": "b38d13ec",
   "metadata": {},
   "outputs": [],
   "source": [
    "import time\n",
    "import pyotp"
   ]
  },
  {
   "cell_type": "code",
   "execution_count": 12,
   "id": "b8585669",
   "metadata": {},
   "outputs": [
    {
     "data": {
      "text/plain": [
       "'TXKRIFPRS66RIVGURX63YIZJJSMWGXEF'"
      ]
     },
     "execution_count": 12,
     "metadata": {},
     "output_type": "execute_result"
    }
   ],
   "source": [
    "key = pyotp.random_base32()\n",
    "key"
   ]
  },
  {
   "cell_type": "code",
   "execution_count": 13,
   "id": "457fec42",
   "metadata": {},
   "outputs": [
    {
     "name": "stdout",
     "output_type": "stream",
     "text": [
      "477155\n",
      "477155\n"
     ]
    }
   ],
   "source": [
    "key = \"N42SQSCOJBKDCXTJ\"\n",
    "totp = pyotp.TOTP(key)\n",
    "print(totp.now())\n",
    "\n",
    "time.sleep(3)\n",
    "\n",
    "print(totp.now())"
   ]
  },
  {
   "cell_type": "code",
   "execution_count": 15,
   "id": "63ebc6b9",
   "metadata": {},
   "outputs": [
    {
     "name": "stdout",
     "output_type": "stream",
     "text": [
      "477155\n",
      "Enter 2FA Code: 477155\n"
     ]
    },
    {
     "data": {
      "text/plain": [
       "True"
      ]
     },
     "execution_count": 15,
     "metadata": {},
     "output_type": "execute_result"
    }
   ],
   "source": [
    "print(totp.now())\n",
    "input_code = input(\"Enter 2FA Code: \")\n",
    "totp.verify(input_code)"
   ]
  },
  {
   "cell_type": "code",
   "execution_count": 18,
   "id": "41e4b1b2",
   "metadata": {},
   "outputs": [
    {
     "name": "stdout",
     "output_type": "stream",
     "text": [
      "395293\n",
      "297080\n",
      "165585\n",
      "039909\n",
      "740043\n"
     ]
    }
   ],
   "source": [
    "counter = 0\n",
    "\n",
    "hotp = pyotp.HOTP(key)\n",
    "print(hotp.at(0))\n",
    "print(hotp.at(1))\n",
    "print(hotp.at(2))\n",
    "print(hotp.at(3))\n",
    "print(hotp.at(4))"
   ]
  },
  {
   "cell_type": "code",
   "execution_count": 19,
   "id": "e3005197",
   "metadata": {},
   "outputs": [
    {
     "name": "stdout",
     "output_type": "stream",
     "text": [
      "Enter code: 395293\n",
      "True\n",
      "Enter code: 297080\n",
      "True\n",
      "Enter code: 165585\n",
      "True\n",
      "Enter code: 039909\n",
      "True\n",
      "Enter code: 740043\n",
      "True\n"
     ]
    }
   ],
   "source": [
    "for _ in range(5):\n",
    "    print(hotp.verify(input(\"Enter code: \"), counter))\n",
    "    counter += 1"
   ]
  },
  {
   "cell_type": "code",
   "execution_count": 20,
   "id": "f8ecd97b",
   "metadata": {},
   "outputs": [
    {
     "name": "stdout",
     "output_type": "stream",
     "text": [
      "otpauth://totp/ItoVegetableFarm:itotube1234%40gmail.com?secret=N42SQSCOJBKDCXTJ&issuer=ItoVegetableFarm\n"
     ]
    }
   ],
   "source": [
    "uri = pyotp.totp.TOTP(key).provisioning_uri(name=\"itotube1234@gmail.com\", issuer_name=\"ItoVegetableFarm\")\n",
    "print(uri)"
   ]
  },
  {
   "cell_type": "code",
   "execution_count": 21,
   "id": "d65e5803",
   "metadata": {},
   "outputs": [],
   "source": [
    "import qrcode\n",
    "qrcode.make(uri).save(\"totp.png\")"
   ]
  },
  {
   "cell_type": "code",
   "execution_count": 22,
   "id": "cc3c5962",
   "metadata": {},
   "outputs": [
    {
     "name": "stdout",
     "output_type": "stream",
     "text": [
      "431186\n",
      "Enter code:431186\n",
      "True\n"
     ]
    }
   ],
   "source": [
    "totp = pyotp.TOTP(key)\n",
    "print(totp.now())\n",
    "while True:\n",
    "    print(totp.verify(input(\"Enter code:\")))\n",
    "    break"
   ]
  },
  {
   "cell_type": "code",
   "execution_count": null,
   "id": "e04f24bf",
   "metadata": {},
   "outputs": [],
   "source": []
  }
 ],
 "metadata": {
  "kernelspec": {
   "display_name": "Python 3 (ipykernel)",
   "language": "python",
   "name": "python3"
  },
  "language_info": {
   "codemirror_mode": {
    "name": "ipython",
    "version": 3
   },
   "file_extension": ".py",
   "mimetype": "text/x-python",
   "name": "python",
   "nbconvert_exporter": "python",
   "pygments_lexer": "ipython3",
   "version": "3.7.16"
  }
 },
 "nbformat": 4,
 "nbformat_minor": 5
}
